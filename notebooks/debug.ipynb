{
 "cells": [
  {
   "cell_type": "code",
   "execution_count": 1,
   "metadata": {},
   "outputs": [
    {
     "ename": "AttributeError",
     "evalue": "module 'tensorflow.keras' has no attribute 'Layer'",
     "output_type": "error",
     "traceback": [
      "\u001b[1;31m---------------------------------------------------------------------------\u001b[0m",
      "\u001b[1;31mAttributeError\u001b[0m                            Traceback (most recent call last)",
      "\u001b[1;32md:\\UNI\\AggregateVAE\\notebooks\\debug.ipynb Cell 1\u001b[0m in \u001b[0;36m<cell line: 7>\u001b[1;34m()\u001b[0m\n\u001b[0;32m      <a href='vscode-notebook-cell:/d%3A/UNI/AggregateVAE/notebooks/debug.ipynb#W0sZmlsZQ%3D%3D?line=4'>5</a>\u001b[0m \u001b[39mfrom\u001b[39;00m \u001b[39mClassifierVAE\u001b[39;00m\u001b[39m.\u001b[39;00m\u001b[39mstructures\u001b[39;00m \u001b[39mimport\u001b[39;00m \u001b[39m*\u001b[39m\n\u001b[0;32m      <a href='vscode-notebook-cell:/d%3A/UNI/AggregateVAE/notebooks/debug.ipynb#W0sZmlsZQ%3D%3D?line=5'>6</a>\u001b[0m \u001b[39mfrom\u001b[39;00m \u001b[39mClassifierVAE\u001b[39;00m\u001b[39m.\u001b[39;00m\u001b[39mmodels\u001b[39;00m\u001b[39m.\u001b[39;00m\u001b[39mgumbel\u001b[39;00m \u001b[39mimport\u001b[39;00m multihead_gumbel\n\u001b[1;32m----> <a href='vscode-notebook-cell:/d%3A/UNI/AggregateVAE/notebooks/debug.ipynb#W0sZmlsZQ%3D%3D?line=6'>7</a>\u001b[0m \u001b[39mfrom\u001b[39;00m \u001b[39mClassifierVAE\u001b[39;00m\u001b[39m.\u001b[39;00m\u001b[39mmodels\u001b[39;00m\u001b[39m.\u001b[39;00m\u001b[39mlayers\u001b[39;00m \u001b[39mimport\u001b[39;00m init_decoder, init_encoder, init_head\n\u001b[0;32m      <a href='vscode-notebook-cell:/d%3A/UNI/AggregateVAE/notebooks/debug.ipynb#W0sZmlsZQ%3D%3D?line=7'>8</a>\u001b[0m \u001b[39mfrom\u001b[39;00m \u001b[39mClassifierVAE\u001b[39;00m\u001b[39m.\u001b[39;00m\u001b[39mtraining\u001b[39;00m\u001b[39m.\u001b[39;00m\u001b[39mwrapper\u001b[39;00m \u001b[39mimport\u001b[39;00m wrapper\n\u001b[0;32m     <a href='vscode-notebook-cell:/d%3A/UNI/AggregateVAE/notebooks/debug.ipynb#W0sZmlsZQ%3D%3D?line=9'>10</a>\u001b[0m tfk \u001b[39m=\u001b[39m tf\u001b[39m.\u001b[39mkeras\n",
      "File \u001b[1;32m<frozen importlib._bootstrap>:1007\u001b[0m, in \u001b[0;36m_find_and_load\u001b[1;34m(name, import_)\u001b[0m\n",
      "File \u001b[1;32m<frozen importlib._bootstrap>:986\u001b[0m, in \u001b[0;36m_find_and_load_unlocked\u001b[1;34m(name, import_)\u001b[0m\n",
      "File \u001b[1;32m<frozen importlib._bootstrap>:664\u001b[0m, in \u001b[0;36m_load_unlocked\u001b[1;34m(spec)\u001b[0m\n",
      "File \u001b[1;32m<frozen importlib._bootstrap>:627\u001b[0m, in \u001b[0;36m_load_backward_compatible\u001b[1;34m(spec)\u001b[0m\n",
      "File \u001b[1;32m<frozen zipimport>:259\u001b[0m, in \u001b[0;36mload_module\u001b[1;34m(self, fullname)\u001b[0m\n",
      "File \u001b[1;32md:\\CONDA\\envs\\tfproba\\lib\\site-packages\\classifiervae-0.1.0-py3.9.egg\\ClassifierVAE\\models\\layers.py:12\u001b[0m, in \u001b[0;36m<module>\u001b[1;34m\u001b[0m\n\u001b[0;32m      8\u001b[0m tfpl \u001b[39m=\u001b[39m tfp\u001b[39m.\u001b[39mlayers \n\u001b[0;32m      9\u001b[0m tfd \u001b[39m=\u001b[39m tfp\u001b[39m.\u001b[39mdistributions\n\u001b[1;32m---> 12\u001b[0m \u001b[39mclass\u001b[39;00m \u001b[39mencoder\u001b[39;00m(tfk\u001b[39m.\u001b[39;49mLayer):\n\u001b[0;32m     13\u001b[0m     \u001b[39mdef\u001b[39;00m \u001b[39m__init__\u001b[39m(\u001b[39mself\u001b[39m, config, \u001b[39m*\u001b[39m\u001b[39m*\u001b[39mkwargs) \u001b[39m-\u001b[39m\u001b[39m>\u001b[39m \u001b[39mNone\u001b[39;00m:\n\u001b[0;32m     14\u001b[0m         \u001b[39msuper\u001b[39m(encoder, \u001b[39mself\u001b[39m)\u001b[39m.\u001b[39m\u001b[39m__init__\u001b[39m(name\u001b[39m=\u001b[39m\u001b[39m'\u001b[39m\u001b[39mencoder\u001b[39m\u001b[39m'\u001b[39m, \u001b[39m*\u001b[39m\u001b[39m*\u001b[39mkwargs)\n",
      "\u001b[1;31mAttributeError\u001b[0m: module 'tensorflow.keras' has no attribute 'Layer'"
     ]
    }
   ],
   "source": [
    "import wandb\n",
    "import tensorflow as tf\n",
    "\n",
    "from ClassifierVAE.utils import init_loss, init_temp_anneal, retrieve_dataset, build_dataset\n",
    "from ClassifierVAE.structures import *\n",
    "from ClassifierVAE.models.gumbel import multihead_gumbel\n",
    "from ClassifierVAE.models.layers import init_decoder, init_encoder, init_head\n",
    "from ClassifierVAE.training.wrapper import wrapper\n",
    "\n",
    "tfk = tf.keras"
   ]
  },
  {
   "cell_type": "markdown",
   "metadata": {},
   "source": [
    "## Constants"
   ]
  },
  {
   "cell_type": "code",
   "execution_count": null,
   "metadata": {},
   "outputs": [],
   "source": [
    "BATCH = 32 \n",
    "ENCODER_STACK = [512, 256]\n",
    "DECODER_STACK = [256, 512]\n",
    "HEAD_STACK = [256, 128]\n",
    "\n",
    "ACTIVATION = 'relu'\n",
    "\n",
    "INIT_TAU = 1.0\n",
    "ANNEAL_RATE = 1e-3\n",
    "MIN_TAU = 0.1\n",
    "\n",
    "HARD = False\n",
    "N_DIST = 20"
   ]
  },
  {
   "cell_type": "markdown",
   "metadata": {},
   "source": [
    "## Args"
   ]
  },
  {
   "cell_type": "code",
   "execution_count": null,
   "metadata": {},
   "outputs": [],
   "source": [
    "LR = 1e-3\n",
    "UNAME = 'parryparry'\n",
    "PROJECT = 'testing_gumbel'\n",
    "SEED = 8008\n",
    "DATASET = 'MNIST'\n",
    "\n",
    "PARTITION_PATH = r'D:\\SUMMER_2022\\PROJECT\\PredictionsFromAggregations\\data\\interim\\lstm'"
   ]
  },
  {
   "cell_type": "code",
   "execution_count": null,
   "metadata": {},
   "outputs": [],
   "source": [
    "NUM_HEADS = 3\n",
    "K = 1000\n",
    "EPOCHS = 1\n",
    "MULTIHEAD = NUM_HEADS > 1\n",
    "\n",
    "tau = tf.Variable(INIT_TAU, trainable=False)\n",
    "\n",
    "INTERMEDIATE = None"
   ]
  },
  {
   "cell_type": "markdown",
   "metadata": {},
   "source": [
    "## Build Dataset"
   ]
  },
  {
   "cell_type": "code",
   "execution_count": null,
   "metadata": {},
   "outputs": [],
   "source": [
    "name, data = retrieve_dataset(DATASET, None) # Retreive true dataset\n",
    "x_train, x_test, y_train, y_test = data\n",
    "dataset = Dataset(name, x_train, x_test, y_train, y_test)\n",
    "\n",
    "train_set, test_set, N_CLASS = build_dataset(dataset, K, PARTITION_PATH, 32, SEED, 1)\n",
    "\n",
    "train_set = None \n",
    "test_set = None"
   ]
  },
  {
   "cell_type": "markdown",
   "metadata": {},
   "source": [
    "## Initialize Configs"
   ]
  },
  {
   "cell_type": "code",
   "execution_count": null,
   "metadata": {},
   "outputs": [],
   "source": [
    "config = {\n",
    "        'learning_rate' : LR,\n",
    "        'K' : K,\n",
    "        'p' : NUM_HEADS, \n",
    "        'num distributions' : N_DIST,\n",
    "        'dataset' : DATASET,\n",
    "        'initial_temperature' : INIT_TAU,\n",
    "        'temperature_anneal_rate' : ANNEAL_RATE,\n",
    "        'minimum_tau' : MIN_TAU\n",
    "    }\n",
    "\n",
    "wandb.init(project=PROJECT, entity=UNAME, config=config)\n",
    "config = wandb.config\n",
    "\n",
    "encoder_config = Encoder_Config(N_CLASS, N_DIST, ENCODER_STACK, ACTIVATION, tau)\n",
    "decoder_config = Decoder_Config(N_CLASS, N_DIST, DECODER_STACK, ACTIVATION, tau)\n",
    "head_config = Head_Config(N_CLASS, INTERMEDIATE, HEAD_STACK, ACTIVATION)"
   ]
  },
  {
   "cell_type": "markdown",
   "metadata": {},
   "source": [
    "## Initialize Model"
   ]
  },
  {
   "cell_type": "code",
   "execution_count": null,
   "metadata": {},
   "outputs": [],
   "source": [
    "encoder_func = init_encoder(encoder_config)\n",
    "decoder_func = init_decoder(decoder_config)\n",
    "head_func = init_head(head_config)\n",
    "\n",
    "model_config = Model_Config(NUM_HEADS, encoder_func, decoder_func, head_func, N_CLASS, HARD)\n",
    "\n",
    "model = multihead_gumbel(model_config)"
   ]
  },
  {
   "cell_type": "markdown",
   "metadata": {},
   "source": [
    "## Initialize Training Wrapper"
   ]
  },
  {
   "cell_type": "code",
   "execution_count": null,
   "metadata": {},
   "outputs": [],
   "source": [
    "loss = init_loss(MULTIHEAD)\n",
    "optim = tfk.optimizers.Adam(learning_rate=LR)\n",
    "\n",
    "temp_anneal = init_temp_anneal(INIT_TAU, MIN_TAU, ANNEAL_RATE)\n",
    "acc_metric = tfk.metrics.CategoricalAccuracy\n",
    "\n",
    "wrapper_config = Wrapper_Config(model, loss, optim, EPOCHS, temp_anneal, acc_metric)\n",
    "\n",
    "train_wrapper = wrapper(wrapper_config)"
   ]
  },
  {
   "cell_type": "code",
   "execution_count": null,
   "metadata": {},
   "outputs": [],
   "source": [
    "train_wrapper.fit(train_set, test_set, wandb)"
   ]
  }
 ],
 "metadata": {
  "kernelspec": {
   "display_name": "Python 3.9.13 ('tfproba')",
   "language": "python",
   "name": "python3"
  },
  "language_info": {
   "codemirror_mode": {
    "name": "ipython",
    "version": 3
   },
   "file_extension": ".py",
   "mimetype": "text/x-python",
   "name": "python",
   "nbconvert_exporter": "python",
   "pygments_lexer": "ipython3",
   "version": "3.9.13"
  },
  "orig_nbformat": 4,
  "vscode": {
   "interpreter": {
    "hash": "436b4fcf59259da6dc58e7cba2c0763a6ef61d3e8a386de76ee8b72546013833"
   }
  }
 },
 "nbformat": 4,
 "nbformat_minor": 2
}
